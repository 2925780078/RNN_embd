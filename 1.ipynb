{
 "cells": [
  {
   "cell_type": "code",
   "execution_count": 1,
   "id": "5141f1d0-89cf-42b1-b1ea-13f22d03b0c2",
   "metadata": {},
   "outputs": [],
   "source": [
    "import numpy as np\n",
    "import matplotlib as plt\n",
    "import time\n",
    "from tqdm import *\n"
   ]
  },
  {
   "cell_type": "code",
   "execution_count": 2,
   "id": "19f4f685-9feb-44a7-a745-b0cf85ab62a5",
   "metadata": {},
   "outputs": [],
   "source": [
    "import torch\n",
    "from torch.utils.data import DataLoader\n",
    "import torch.optim as optim"
   ]
  },
  {
   "cell_type": "code",
   "execution_count": 3,
   "id": "edeb2cd8-6197-48a5-974c-fa9c3db9a4d8",
   "metadata": {},
   "outputs": [],
   "source": [
    "import torch.nn as nn\n",
    "# parameters\n",
    "num_class = 4 \n",
    "input_size = 4 \n",
    "hidden_size = 8 \n",
    "embedding_size = 10 \n",
    "num_layers = 2 \n",
    "batch_size = 1 \n",
    "seq_len = 5\n",
    "\n",
    "class Model(nn.Module):\n",
    "    def __init__(self):\n",
    "        super(Model, self).__init__()\n",
    "        self.emb = torch.nn.Embedding(input_size, embedding_size)  #嵌入层\n",
    "        self.rnn = nn.RNN(input_size=embedding_size, hidden_size=hidden_size, num_layers=num_layers, batch_first=True)\n",
    "        self.fc = nn.Linear(hidden_size, num_class)  #全连接层\n",
    "\n",
    "    def forward(self, x):\n",
    "        hidden = torch.zeros(num_layers, x.size(0), hidden_size)\n",
    "        x = self.emb(x)                 # (batch, seqLen, （input_size）embeddingSize) \n",
    "        x, _ = self.rnn(x, hidden)      # 输出(𝒃𝒂𝒕𝒄𝒉𝑺𝒊𝒛𝒆, 𝒔𝒆𝒒𝑳𝒆𝒏, hidden_size)\n",
    "        x = self.fc(x)                  # 输出(𝒃𝒂𝒕𝒄𝒉𝑺𝒊𝒛𝒆, 𝒔𝒆𝒒𝑳𝒆𝒏, 𝒏𝒖𝒎𝑪𝒍𝒂𝒔𝒔)\n",
    "        return x.view(-1, num_class)    # reshape to use Cross Entropy: (𝒃𝒂𝒕𝒄𝒉𝑺𝒊𝒛𝒆×𝒔𝒆𝒒𝑳𝒆𝒏, 𝒏𝒖𝒎𝑪𝒍𝒂𝒔𝒔)\n",
    "        #经过嵌入层的降维，然后进过RNN网络，最后经过全连接层，输出的最后一个参数维度变为分类类别个数，替代词典作用\n",
    "net = Model()\n",
    "\n",
    "\n",
    "criterion = torch.nn.CrossEntropyLoss()\n",
    "optimizer = torch.optim.Adam(net.parameters(), lr=0.05)"
   ]
  },
  {
   "cell_type": "code",
   "execution_count": 4,
   "id": "bf814224-cb0b-458b-a732-801ab4136802",
   "metadata": {},
   "outputs": [
    {
     "name": "stdout",
     "output_type": "stream",
     "text": [
      "Predicted:  lllll, Epoch [1/15] loss = 1.288\n",
      "Predicted:  ollll, Epoch [2/15] loss = 1.060\n",
      "Predicted:  ohlll, Epoch [3/15] loss = 0.860\n",
      "Predicted:  ohlll, Epoch [4/15] loss = 0.632\n",
      "Predicted:  ohlol, Epoch [5/15] loss = 0.418\n",
      "Predicted:  ohlol, Epoch [6/15] loss = 0.270\n",
      "Predicted:  ohlol, Epoch [7/15] loss = 0.175\n",
      "Predicted:  ohlol, Epoch [8/15] loss = 0.113\n",
      "Predicted:  ohlol, Epoch [9/15] loss = 0.073\n",
      "Predicted:  ohlol, Epoch [10/15] loss = 0.047\n",
      "Predicted:  ohlol, Epoch [11/15] loss = 0.031\n",
      "Predicted:  ohlol, Epoch [12/15] loss = 0.022\n",
      "Predicted:  ohlol, Epoch [13/15] loss = 0.016\n",
      "Predicted:  ohlol, Epoch [14/15] loss = 0.012\n",
      "Predicted:  ohlol, Epoch [15/15] loss = 0.009\n"
     ]
    }
   ],
   "source": [
    "idx2char = ['e', 'h', 'l', 'o'] \n",
    "x_data = [[1, 0, 2, 2, 3]]  # (batch, seq_len) \n",
    "y_data = [3, 1, 2, 3, 2]    # (batch * seq_len)\n",
    "\n",
    "inputs = torch.LongTensor(x_data)   # Input should be LongTensor: (batchSize, seqLen) 二维\n",
    "labels = torch.LongTensor(y_data)   # Target should be LongTensor: (batchSize * seqLen) 一维\n",
    "\n",
    "epochs = 15\n",
    "\n",
    "for epoch in range(epochs):\n",
    "    optimizer.zero_grad()\n",
    "    outputs = net(inputs) \n",
    "    loss = criterion(outputs, labels) \n",
    "    loss.backward() \n",
    "    optimizer.step()  #包含之前所有的梯度\n",
    "\n",
    "    _, idx = outputs.max(dim=1) \n",
    "    idx = idx.data.numpy() \n",
    "    print('Predicted: ', ''.join([idx2char[x] for x in idx]), end='') \n",
    "    print(', Epoch [%d/15] loss = %.3f' % (epoch + 1, loss.item()))\n"
   ]
  }
 ],
 "metadata": {
  "kernelspec": {
   "display_name": "Python 3 (ipykernel)",
   "language": "python",
   "name": "python3"
  },
  "language_info": {
   "codemirror_mode": {
    "name": "ipython",
    "version": 3
   },
   "file_extension": ".py",
   "mimetype": "text/x-python",
   "name": "python",
   "nbconvert_exporter": "python",
   "pygments_lexer": "ipython3",
   "version": "3.9.7"
  }
 },
 "nbformat": 4,
 "nbformat_minor": 5
}
